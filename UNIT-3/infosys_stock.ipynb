{
 "cells": [
  {
   "cell_type": "markdown",
   "metadata": {},
   "source": [
    "# Infosys Stock Prediction"
   ]
  },
  {
   "cell_type": "code",
   "execution_count": 1,
   "metadata": {},
   "outputs": [],
   "source": [
    "import pandas as pd\n",
    "import numpy as np\n",
    "import matplotlib.pyplot as plt"
   ]
  },
  {
   "cell_type": "code",
   "execution_count": 2,
   "metadata": {},
   "outputs": [],
   "source": [
    "df = pd.read_csv(\"../ml_datasets/stock_infosys.csv\")"
   ]
  },
  {
   "cell_type": "code",
   "execution_count": 3,
   "metadata": {},
   "outputs": [
    {
     "data": {
      "text/html": [
       "<div>\n",
       "<style scoped>\n",
       "    .dataframe tbody tr th:only-of-type {\n",
       "        vertical-align: middle;\n",
       "    }\n",
       "\n",
       "    .dataframe tbody tr th {\n",
       "        vertical-align: top;\n",
       "    }\n",
       "\n",
       "    .dataframe thead th {\n",
       "        text-align: right;\n",
       "    }\n",
       "</style>\n",
       "<table border=\"1\" class=\"dataframe\">\n",
       "  <thead>\n",
       "    <tr style=\"text-align: right;\">\n",
       "      <th></th>\n",
       "      <th>Date</th>\n",
       "      <th>Close</th>\n",
       "      <th>Open</th>\n",
       "      <th>High</th>\n",
       "      <th>Low</th>\n",
       "      <th>Vol-Million</th>\n",
       "      <th>Change %</th>\n",
       "    </tr>\n",
       "  </thead>\n",
       "  <tbody>\n",
       "    <tr>\n",
       "      <th>0</th>\n",
       "      <td>Jun 18, 2018</td>\n",
       "      <td>1269.20</td>\n",
       "      <td>1281.80</td>\n",
       "      <td>1291.00</td>\n",
       "      <td>1264.05</td>\n",
       "      <td>2.86</td>\n",
       "      <td>-0.01</td>\n",
       "    </tr>\n",
       "    <tr>\n",
       "      <th>1</th>\n",
       "      <td>Jun 15, 2018</td>\n",
       "      <td>1281.25</td>\n",
       "      <td>1237.00</td>\n",
       "      <td>1291.50</td>\n",
       "      <td>1235.00</td>\n",
       "      <td>9.98</td>\n",
       "      <td>0.03</td>\n",
       "    </tr>\n",
       "    <tr>\n",
       "      <th>2</th>\n",
       "      <td>Jun 14, 2018</td>\n",
       "      <td>1239.70</td>\n",
       "      <td>1253.00</td>\n",
       "      <td>1253.00</td>\n",
       "      <td>1234.10</td>\n",
       "      <td>3.80</td>\n",
       "      <td>-0.02</td>\n",
       "    </tr>\n",
       "    <tr>\n",
       "      <th>3</th>\n",
       "      <td>Jun 13, 2018</td>\n",
       "      <td>1264.80</td>\n",
       "      <td>1256.86</td>\n",
       "      <td>1273.93</td>\n",
       "      <td>1256.86</td>\n",
       "      <td>2.88</td>\n",
       "      <td>0.01</td>\n",
       "    </tr>\n",
       "    <tr>\n",
       "      <th>4</th>\n",
       "      <td>Jun 12, 2018</td>\n",
       "      <td>1248.63</td>\n",
       "      <td>1255.82</td>\n",
       "      <td>1261.28</td>\n",
       "      <td>1240.64</td>\n",
       "      <td>3.92</td>\n",
       "      <td>0.00</td>\n",
       "    </tr>\n",
       "  </tbody>\n",
       "</table>\n",
       "</div>"
      ],
      "text/plain": [
       "           Date    Close     Open     High      Low  Vol-Million  Change %\n",
       "0  Jun 18, 2018  1269.20  1281.80  1291.00  1264.05         2.86     -0.01\n",
       "1  Jun 15, 2018  1281.25  1237.00  1291.50  1235.00         9.98      0.03\n",
       "2  Jun 14, 2018  1239.70  1253.00  1253.00  1234.10         3.80     -0.02\n",
       "3  Jun 13, 2018  1264.80  1256.86  1273.93  1256.86         2.88      0.01\n",
       "4  Jun 12, 2018  1248.63  1255.82  1261.28  1240.64         3.92      0.00"
      ]
     },
     "execution_count": 3,
     "metadata": {},
     "output_type": "execute_result"
    }
   ],
   "source": [
    "df.head()"
   ]
  },
  {
   "cell_type": "code",
   "execution_count": 4,
   "metadata": {},
   "outputs": [
    {
     "data": {
      "text/plain": [
       "Date           0\n",
       "Close          0\n",
       "Open           0\n",
       "High           0\n",
       "Low            0\n",
       "Vol-Million    0\n",
       "Change %       0\n",
       "dtype: int64"
      ]
     },
     "execution_count": 4,
     "metadata": {},
     "output_type": "execute_result"
    }
   ],
   "source": [
    "df.isna().sum()"
   ]
  },
  {
   "cell_type": "code",
   "execution_count": 5,
   "metadata": {},
   "outputs": [
    {
     "data": {
      "text/plain": [
       "Date           249\n",
       "Close          249\n",
       "Open           249\n",
       "High           249\n",
       "Low            249\n",
       "Vol-Million    249\n",
       "Change %       249\n",
       "dtype: int64"
      ]
     },
     "execution_count": 5,
     "metadata": {},
     "output_type": "execute_result"
    }
   ],
   "source": [
    "df.count()"
   ]
  },
  {
   "cell_type": "code",
   "execution_count": null,
   "metadata": {},
   "outputs": [],
   "source": []
  }
 ],
 "metadata": {
  "kernelspec": {
   "display_name": "Python 3",
   "language": "python",
   "name": "python3"
  },
  "language_info": {
   "codemirror_mode": {
    "name": "ipython",
    "version": 3
   },
   "file_extension": ".py",
   "mimetype": "text/x-python",
   "name": "python",
   "nbconvert_exporter": "python",
   "pygments_lexer": "ipython3",
   "version": "3.11.3"
  },
  "orig_nbformat": 4
 },
 "nbformat": 4,
 "nbformat_minor": 2
}
